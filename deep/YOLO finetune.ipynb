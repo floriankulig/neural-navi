{
 "cells": [
  {
   "cell_type": "code",
   "execution_count": null,
   "metadata": {
    "colab": {
     "base_uri": "https://localhost:8080/"
    },
    "collapsed": true,
    "executionInfo": {
     "elapsed": 106606,
     "status": "ok",
     "timestamp": 1743255265495,
     "user": {
      "displayName": "Florian Kulig",
      "userId": "16057237434998218652"
     },
     "user_tz": -60
    },
    "id": "_Z403czT6R6x",
    "outputId": "959b7e05-c130-43ea-e38c-b6937b399d65"
   },
   "outputs": [],
   "source": [
    "# Install required YOLO\n",
    "# !pip install ultralytics"
   ]
  },
  {
   "cell_type": "markdown",
   "metadata": {
    "id": "zbI_PMgO7yM0"
   },
   "source": [
    "# Load Data\n"
   ]
  },
  {
   "cell_type": "code",
   "execution_count": null,
   "metadata": {
    "colab": {
     "base_uri": "https://localhost:8080/"
    },
    "executionInfo": {
     "elapsed": 151816,
     "status": "ok",
     "timestamp": 1743255430438,
     "user": {
      "displayName": "Florian Kulig",
      "userId": "16057237434998218652"
     },
     "user_tz": -60
    },
    "id": "9l2CO6486ezP",
    "outputId": "938a2470-204a-41e0-df22-fa2852ec8800"
   },
   "outputs": [],
   "source": [
    "# !mkdir -p ./data/sets/nuimages  # Make the directory to store the nuImages dataset in.\n",
    "\n",
    "# !pip install nuscenes-devkit &> /dev/null  # Install nuImages.\n",
    "\n",
    "# !wget https://www.nuscenes.org/data/nuimages-v1.0-mini.tgz  # Download the nuImages mini split.\n",
    "\n",
    "# !tar -xf nuimages-v1.0-mini.tgz -C ./data/sets/nuimages  # Uncompress the nuImages mini split."
   ]
  },
  {
   "cell_type": "markdown",
   "metadata": {
    "id": "rKFxEhjU16Rh"
   },
   "source": [
    "## Load Samples\n"
   ]
  },
  {
   "cell_type": "code",
   "execution_count": null,
   "metadata": {
    "id": "Ik0UUN5jvZAi"
   },
   "outputs": [],
   "source": [
    "# !wget https://d36yt3mvayqw5m.cloudfront.net/public/nuimages-v1.0/nuimages-v1.0-all-samples.tgz\n",
    "\n",
    "# !tar -xf nuimages-v1.0-all-samples.tgz -C ./data/sets/nuimages  # Uncompress the entire nuImages samples."
   ]
  },
  {
   "cell_type": "markdown",
   "metadata": {
    "id": "h6i6EwNL13_f"
   },
   "source": [
    "## Load Metadata\n"
   ]
  },
  {
   "cell_type": "code",
   "execution_count": null,
   "metadata": {
    "colab": {
     "base_uri": "https://localhost:8080/"
    },
    "executionInfo": {
     "elapsed": 37787,
     "status": "ok",
     "timestamp": 1743249116693,
     "user": {
      "displayName": "Florian Kulig",
      "userId": "16057237434998218652"
     },
     "user_tz": -60
    },
    "id": "77zpHrWjvZwm",
    "outputId": "c070485a-2fb0-4f1c-8a17-7dc256d2b43a"
   },
   "outputs": [],
   "source": [
    "# !wget https://d36yt3mvayqw5m.cloudfront.net/public/nuimages-v1.0/nuimages-v1.0-all-metadata.tgz\n",
    "\n",
    "# !tar -xf nuimages-v1.0-all-metadata.tgz -C ./data/sets/nuimages  # Uncompress the entire nuImages metadata."
   ]
  },
  {
   "cell_type": "code",
   "execution_count": null,
   "metadata": {
    "colab": {
     "base_uri": "https://localhost:8080/"
    },
    "executionInfo": {
     "elapsed": 166,
     "status": "ok",
     "timestamp": 1743255836285,
     "user": {
      "displayName": "Florian Kulig",
      "userId": "16057237434998218652"
     },
     "user_tz": -60
    },
    "id": "dnduEemW5Qaw",
    "outputId": "454c573e-245d-44e5-f0af-65733c361593"
   },
   "outputs": [],
   "source": [
    "import os\n",
    "\n",
    "os.environ[\"PYTORCH_ENABLE_MPS_FALLBACK\"] = \"1\"\n",
    "import json\n",
    "import shutil\n",
    "import numpy as np\n",
    "import pandas as pd\n",
    "\n",
    "# import matplotlib.pyplot as plt\n",
    "import cv2\n",
    "from tqdm.notebook import tqdm\n",
    "from PIL import Image\n",
    "from pathlib import Path\n",
    "import torch\n",
    "import yaml\n",
    "\n",
    "# Überprüfen der verfügbaren Hardware\n",
    "print(f\"PyTorch version: {torch.__version__}\")\n",
    "if torch.backends.mps.is_available():\n",
    "    device = torch.device(\"mps\")\n",
    "else:\n",
    "    device = torch.device(\"cuda\" if torch.cuda.is_available() else \"cpu\")\n",
    "print(f\"Using device: {device}\")"
   ]
  },
  {
   "cell_type": "code",
   "execution_count": null,
   "metadata": {
    "executionInfo": {
     "elapsed": 3,
     "status": "ok",
     "timestamp": 1743255448931,
     "user": {
      "displayName": "Florian Kulig",
      "userId": "16057237434998218652"
     },
     "user_tz": -60
    },
    "id": "7W40PISs5lU2"
   },
   "outputs": [],
   "source": [
    "# Pfad zum NuImages-Datensatz (lokal)\n",
    "DATA_SET_PATH = \"data/sets/nuimages\"\n",
    "\n",
    "# Ausgabepfad für die YOLO-Trainingsdaten\n",
    "output_path = \"data/nuimages_yolo\"\n",
    "os.makedirs(output_path, exist_ok=True)\n",
    "\n",
    "# Pfad zum vortrainierten YOLO-Modell\n",
    "yolo_model_path = \"yolo11n.pt\"\n",
    "\n",
    "# Filter attributes we're interested in\n",
    "vehicles = [\n",
    "    \"vehicle.car\",\n",
    "    \"vehicle.motorcycle\",\n",
    "    \"vehicle.truck\",\n",
    "    \"vehicle.trailer\",\n",
    "    \"vehicle.bus.rigid\",\n",
    "]\n",
    "\n",
    "# Classes in YOLO format: car=2, motorcycle=3, bus=5, truck=7\n",
    "class_mapping = {\n",
    "    \"vehicle.car\": 2,\n",
    "    \"vehicle.motorcycle\": 3,\n",
    "    \"vehicle.bus.rigid\": 5,\n",
    "    \"vehicle.truck\": 7,\n",
    "    \"vehicle.trailer\": 7,\n",
    "}"
   ]
  },
  {
   "cell_type": "code",
   "execution_count": null,
   "metadata": {
    "colab": {
     "base_uri": "https://localhost:8080/"
    },
    "executionInfo": {
     "elapsed": 52,
     "status": "ok",
     "timestamp": 1743255472800,
     "user": {
      "displayName": "Florian Kulig",
      "userId": "16057237434998218652"
     },
     "user_tz": -60
    },
    "id": "njvsCkYM6PBX",
    "outputId": "8c1ead12-dd49-4cda-ea70-c3968d6fdf79"
   },
   "outputs": [],
   "source": [
    "from nuimages import NuImages\n",
    "from tqdm import tqdm\n",
    "import os\n",
    "\n",
    "nuim = NuImages(dataroot=DATA_SET_PATH, version=\"v1.0-mini\", verbose=True, lazy=True)\n",
    "SAMPLES = nuim.sample\n",
    "SAMPLES = SAMPLES[:100]\n",
    "selected_sample = SAMPLES[0]\n",
    "\n",
    "token = selected_sample[\"token\"]\n",
    "key_camera_token = selected_sample[\"key_camera_token\"]\n",
    "\n",
    "print(\"Selected Sample: \", selected_sample)"
   ]
  },
  {
   "cell_type": "code",
   "execution_count": null,
   "metadata": {
    "colab": {
     "base_uri": "https://localhost:8080/"
    },
    "executionInfo": {
     "elapsed": 8,
     "status": "ok",
     "timestamp": 1743255476645,
     "user": {
      "displayName": "Florian Kulig",
      "userId": "16057237434998218652"
     },
     "user_tz": -60
    },
    "id": "p2DNhwcy8TW-",
    "outputId": "3edcda6a-fb0b-4453-f433-38b9a8c82d51"
   },
   "outputs": [],
   "source": [
    "selected_sample_data = nuim.get(\"sample_data\", key_camera_token)\n",
    "print(selected_sample_data)"
   ]
  },
  {
   "cell_type": "code",
   "execution_count": null,
   "metadata": {
    "colab": {
     "base_uri": "https://localhost:8080/",
     "height": 653
    },
    "collapsed": true,
    "executionInfo": {
     "elapsed": 487,
     "status": "ok",
     "timestamp": 1743255479307,
     "user": {
      "displayName": "Florian Kulig",
      "userId": "16057237434998218652"
     },
     "user_tz": -60
    },
    "id": "N2hp6ph_xcH3",
    "outputId": "aef37dec-903c-4003-aa48-c56330c336bd"
   },
   "outputs": [],
   "source": [
    "filename = DATA_SET_PATH + \"/\" + selected_sample_data[\"filename\"]\n",
    "\n",
    "from IPython.display import Image\n",
    "\n",
    "Image(filename)"
   ]
  },
  {
   "cell_type": "code",
   "execution_count": null,
   "metadata": {
    "colab": {
     "base_uri": "https://localhost:8080/"
    },
    "executionInfo": {
     "elapsed": 35,
     "status": "ok",
     "timestamp": 1743255487264,
     "user": {
      "displayName": "Florian Kulig",
      "userId": "16057237434998218652"
     },
     "user_tz": -60
    },
    "id": "HCIvbhRsyiK1",
    "outputId": "50b4f35b-a982-40bf-8ce4-a04cec029cdf"
   },
   "outputs": [],
   "source": [
    "object_tokens, _ = nuim.list_anns(token, verbose=False)\n",
    "print(object_tokens[0])\n",
    "object_info = nuim.get(\"object_ann\", object_tokens[0])\n",
    "print(object_info)\n",
    "annotation_category = nuim.get(\"category\", object_info[\"category_token\"])\n",
    "print(annotation_category)"
   ]
  },
  {
   "cell_type": "markdown",
   "metadata": {},
   "source": [
    "## Filter for vehicle classes\n"
   ]
  },
  {
   "cell_type": "code",
   "execution_count": null,
   "metadata": {},
   "outputs": [],
   "source": [
    "filtered_tokens = []\n",
    "for token in object_tokens:\n",
    "    object_info = nuim.get(\"object_ann\", token)\n",
    "    annotation_category = nuim.get(\"category\", object_info[\"category_token\"])\n",
    "    if annotation_category[\"name\"] in vehicles:\n",
    "        filtered_tokens.append(token)\n",
    "\n",
    "nuim.render_image(\n",
    "    key_camera_token,\n",
    "    with_category=True,\n",
    "    object_tokens=filtered_tokens,\n",
    "    surface_tokens=[],\n",
    "    font_size=24,\n",
    "    render_scale=2,\n",
    ")"
   ]
  },
  {
   "cell_type": "markdown",
   "metadata": {
    "id": "nohzKLGq2K92"
   },
   "source": [
    "# Process Data\n"
   ]
  },
  {
   "cell_type": "markdown",
   "metadata": {
    "id": "9pzNHhCf73ED"
   },
   "source": [
    "## Filter Front Camera(s) Images\n"
   ]
  },
  {
   "cell_type": "code",
   "execution_count": null,
   "metadata": {
    "colab": {
     "base_uri": "https://localhost:8080/"
    },
    "executionInfo": {
     "elapsed": 41,
     "status": "ok",
     "timestamp": 1743255540863,
     "user": {
      "displayName": "Florian Kulig",
      "userId": "16057237434998218652"
     },
     "user_tz": -60
    },
    "id": "ExMt-URC7dWj",
    "outputId": "73f10c58-6006-4636-a3ee-70f120d73da3"
   },
   "outputs": [],
   "source": [
    "# Front-Kamera-Bilder identifizieren (für Fahrzeuge, die sich wegbewegen)\n",
    "def filter_front_camera_images(samples):\n",
    "    \"\"\"Filtert Bilder aus der Frontkamera.\"\"\"\n",
    "    front_camera_samples = []\n",
    "\n",
    "    for sample in samples:\n",
    "        key_camera_token = sample[\"key_camera_token\"]\n",
    "        sample_data = nuim.get(\"sample_data\", key_camera_token)\n",
    "        filename = sample_data[\"filename\"]\n",
    "        is_key_frame = sample_data[\"is_key_frame\"]\n",
    "        if is_key_frame and (\"CAM_FRONT\" in filename):\n",
    "            front_camera_samples.append(sample)\n",
    "\n",
    "    print(f\"Gefunden: {len(front_camera_samples)} Bilder von Frontkameras\")\n",
    "    return front_camera_samples\n",
    "\n",
    "\n",
    "filtered_samples = filter_front_camera_images(SAMPLES)"
   ]
  },
  {
   "cell_type": "markdown",
   "metadata": {
    "id": "5SEpHwsJBF2m"
   },
   "source": [
    "## Get Image Annotations\n"
   ]
  },
  {
   "cell_type": "code",
   "execution_count": null,
   "metadata": {
    "colab": {
     "base_uri": "https://localhost:8080/"
    },
    "executionInfo": {
     "elapsed": 35,
     "status": "ok",
     "timestamp": 1743255545093,
     "user": {
      "displayName": "Florian Kulig",
      "userId": "16057237434998218652"
     },
     "user_tz": -60
    },
    "id": "hZvKTP9LBrnC",
    "outputId": "cfb3e775-c29e-4d22-81e5-7db4ad6e5248"
   },
   "outputs": [],
   "source": [
    "vehicle_mapping = {\n",
    "    \"vehicle.car\": 2,  # Original YOLO-Klasse für car\n",
    "    \"vehicle.motorcycle\": 3,  # Original YOLO-Klasse für motorcycle\n",
    "    \"vehicle.bus.rigid\": 5,  # Original YOLO-Klasse für bus\n",
    "    \"vehicle.truck\": 7,  # Original YOLO-Klasse für truck\n",
    "    \"vehicle.trailer\": 7,  # Trailer als Truck behandeln (keine eigene Klasse in YOLO)\n",
    "}\n",
    "# vehicle_mapping = {\n",
    "#     \"vehicle.car\": 0,\n",
    "#     \"vehicle.motorcycle\": 1,\n",
    "#     \"vehicle.bus.rigid\": 2,\n",
    "#     \"vehicle.truck\": 3,\n",
    "#     \"vehicle.trailer\": 3,\n",
    "# }\n",
    "\n",
    "# NuImages-Kategorien laden und filtern\n",
    "categories = nuim.category\n",
    "vehicle_categories = {}\n",
    "\n",
    "for category in categories:\n",
    "    # Wenn die Kategorie in unserem Mapping ist, speichern wir ihre Token-ID\n",
    "    lower_name = category[\"name\"].lower()\n",
    "    if lower_name in vehicle_mapping:\n",
    "        vehicle_categories[category[\"token\"]] = {\n",
    "            \"name\": lower_name,\n",
    "            \"yolo_id\": vehicle_mapping[lower_name],\n",
    "        }\n",
    "\n",
    "print(f\"Extrahierte Fahrzeugkategorien: {len(vehicle_categories)}\")\n",
    "for token, info in vehicle_categories.items():\n",
    "    print(f\"  - {info['name']}: (Original YOLO-ID: {info['yolo_id']})\")"
   ]
  },
  {
   "cell_type": "code",
   "execution_count": null,
   "metadata": {
    "colab": {
     "base_uri": "https://localhost:8080/"
    },
    "executionInfo": {
     "elapsed": 63,
     "status": "ok",
     "timestamp": 1743255637987,
     "user": {
      "displayName": "Florian Kulig",
      "userId": "16057237434998218652"
     },
     "user_tz": -60
    },
    "id": "WP0EXAMfDzVo",
    "outputId": "e7d61b29-ef6c-4191-9202-8469061e1e8c"
   },
   "outputs": [],
   "source": [
    "annotations_by_sample = {}\n",
    "\n",
    "for sample in tqdm(filtered_samples, desc=\"Extrahiere Annotationen\"):\n",
    "    sample_token = sample[\"token\"]\n",
    "    annotations_by_sample[sample_token] = []\n",
    "\n",
    "    # Alle Objekt-Annotationen für dieses Sample abrufen\n",
    "    object_tokens, _ = nuim.list_anns(sample_token, verbose=False)\n",
    "\n",
    "    for object_token in object_tokens:\n",
    "        ann = nuim.get(\"object_ann\", object_token)\n",
    "        category_token = ann[\"category_token\"]\n",
    "\n",
    "        # Prüfen, ob es eine Fahrzeugkategorie ist, die wir behalten wollen\n",
    "        if category_token in vehicle_categories:\n",
    "            # Bounding Box im Format [x1, y1, x2, y2] extrahieren\n",
    "            bbox = ann[\"bbox\"]\n",
    "\n",
    "            # Kategorie-Information hinzufügen\n",
    "            annotations_by_sample[sample_token].append(\n",
    "                {\n",
    "                    \"category_token\": category_token,\n",
    "                    \"yolo_id\": vehicle_categories[category_token][\"yolo_id\"],\n",
    "                    \"bbox\": bbox,\n",
    "                }\n",
    "            )"
   ]
  },
  {
   "cell_type": "code",
   "execution_count": null,
   "metadata": {
    "colab": {
     "base_uri": "https://localhost:8080/"
    },
    "executionInfo": {
     "elapsed": 46,
     "status": "ok",
     "timestamp": 1743255664696,
     "user": {
      "displayName": "Florian Kulig",
      "userId": "16057237434998218652"
     },
     "user_tz": -60
    },
    "id": "_brdAzk1Ik2W",
    "outputId": "7d3ff5b1-91a6-4369-bb6f-a221c853936d"
   },
   "outputs": [],
   "source": [
    "print(annotations_by_sample)"
   ]
  },
  {
   "cell_type": "markdown",
   "metadata": {
    "id": "o4YQbXsI-4ai"
   },
   "source": [
    "## YOLO Dataset Prepare\n"
   ]
  },
  {
   "cell_type": "code",
   "execution_count": null,
   "metadata": {},
   "outputs": [],
   "source": [
    "import os\n",
    "from pathlib import Path\n",
    "\n",
    "# 1. Erstelle die notwendigen Verzeichnisse für YOLO-Training\n",
    "train_path = Path(output_path) / \"train\"\n",
    "val_path = Path(output_path) / \"val\"\n",
    "train_images_path = train_path / \"images\"\n",
    "train_labels_path = train_path / \"labels\"\n",
    "val_images_path = val_path / \"images\"\n",
    "val_labels_path = val_path / \"labels\"\n",
    "\n",
    "\n",
    "def recreate_dirs():\n",
    "    # Clear train and val directories if they exist\n",
    "    if train_path.exists():\n",
    "        shutil.rmtree(train_path)\n",
    "    if val_path.exists():\n",
    "        shutil.rmtree(val_path)\n",
    "\n",
    "    # Verzeichnisse erstellen\n",
    "    for dir_path in [\n",
    "        train_images_path,\n",
    "        train_labels_path,\n",
    "        val_images_path,\n",
    "        val_labels_path,\n",
    "    ]:\n",
    "        dir_path.mkdir(parents=True, exist_ok=True)\n",
    "\n",
    "\n",
    "recreate_dirs()"
   ]
  },
  {
   "cell_type": "code",
   "execution_count": null,
   "metadata": {},
   "outputs": [],
   "source": [
    "import random\n",
    "\n",
    "# 2. Die Samples zwischen Training und Validierung aufteilen (80% / 20%)\n",
    "random.seed(42)  # Für Reproduzierbarkeit\n",
    "val_split = 0.2\n",
    "\n",
    "filtered_samples = SAMPLES.copy()\n",
    "random.shuffle(filtered_samples)\n",
    "split_idx = int(len(filtered_samples) * (1 - val_split))\n",
    "train_samples = filtered_samples[:split_idx]\n",
    "val_samples = filtered_samples[split_idx:]\n",
    "\n",
    "print(\n",
    "    f\"Training: {len(train_samples)} Samples, Validierung: {len(val_samples)} Samples\"\n",
    ")"
   ]
  },
  {
   "cell_type": "code",
   "execution_count": null,
   "metadata": {},
   "outputs": [],
   "source": [
    "import shutil\n",
    "from tqdm.notebook import tqdm\n",
    "\n",
    "# 3. Bilder kopieren und Annotations-Dateien erstellen\n",
    "processed_samples = {\"train\": 0, \"val\": 0}\n",
    "processed_annotations = {\"train\": 0, \"val\": 0}\n",
    "\n",
    "\n",
    "# YOLO-Format-Funktion: Konvertiert BBox [xmin, ymin, xmax, ymax] zu [class_id, x_center, y_center, width, height]\n",
    "def convert_to_yolo_format(bbox, img_width, img_height, class_id):\n",
    "    \"\"\"\n",
    "    Konvertiert Bounding Box von [xmin, ymin, xmax, ymax] zu YOLO-Format [x_center, y_center, width, height]\n",
    "    Alle Werte werden auf Bildgröße normalisiert (0-1)\n",
    "    \"\"\"\n",
    "    xmin, ymin, xmax, ymax = bbox\n",
    "\n",
    "    # Normalisierte Breite und Höhe\n",
    "    width = (xmax - xmin) / img_width\n",
    "    height = (ymax - ymin) / img_height\n",
    "\n",
    "    # Normalisierte Zentrumskoordinaten\n",
    "    x_center = (xmin + (xmax - xmin) / 2) / img_width\n",
    "    y_center = (ymin + (ymax - ymin) / 2) / img_height\n",
    "\n",
    "    return [class_id, x_center, y_center, width, height]\n",
    "\n",
    "\n",
    "for dataset_type, samples in [(\"train\", train_samples), (\"val\", val_samples)]:\n",
    "    output_img_dir = train_images_path if dataset_type == \"train\" else val_images_path\n",
    "    output_label_dir = train_labels_path if dataset_type == \"train\" else val_labels_path\n",
    "\n",
    "    for sample in tqdm(samples, desc=f\"Erstelle {dataset_type.capitalize()}-Dataset\"):\n",
    "        sample_token = sample[\"token\"]\n",
    "        key_camera_token = sample[\"key_camera_token\"]\n",
    "\n",
    "        # Bildpfad ermitteln\n",
    "        sample_data = nuim.get(\"sample_data\", key_camera_token)\n",
    "        img_path = Path(DATA_SET_PATH) / sample_data[\"filename\"]\n",
    "\n",
    "        if not img_path.exists():\n",
    "            print(f\"Warnung: Bild {img_path} nicht gefunden, überspringe...\")\n",
    "            continue\n",
    "\n",
    "        img_height, img_width = sample_data[\"height\"], sample_data[\"width\"]\n",
    "        # img_height, img_width = img.shape[:2]\n",
    "\n",
    "        # Zielbildpfad\n",
    "        dest_img_name = f\"{sample_token}.jpg\"\n",
    "        dest_img_path = output_img_dir / dest_img_name\n",
    "\n",
    "        # # Bild kopieren\n",
    "        # shutil.copy(img_path, dest_img_path)\n",
    "\n",
    "        # Symbolischen Link erstellen anstatt das Bild zu kopieren\n",
    "        # Absolute Pfade für Quell- und Zieldateien verwenden\n",
    "        source_absolute = os.path.abspath(img_path)\n",
    "\n",
    "        if os.path.lexists(dest_img_path):\n",
    "            os.remove(dest_img_path)  # Entferne existierenden Symlink falls vorhanden\n",
    "\n",
    "        os.symlink(source_absolute, dest_img_path)\n",
    "        processed_samples[dataset_type] += 1\n",
    "\n",
    "        # Annotationen im YOLO-Format erstellen\n",
    "        annotations = annotations_by_sample.get(sample_token, [])\n",
    "        if not annotations:\n",
    "            # Leere Annotationsdatei erstellen, wenn keine Fahrzeuge vorhanden sind\n",
    "            with open(output_label_dir / f\"{sample_token}.txt\", \"w\") as f:\n",
    "                pass\n",
    "            continue\n",
    "\n",
    "        with open(output_label_dir / f\"{sample_token}.txt\", \"w\") as f:\n",
    "            for ann in annotations:\n",
    "                bbox = ann[\"bbox\"]\n",
    "                class_id = ann[\"yolo_id\"]\n",
    "\n",
    "                # Zu YOLO-Format konvertieren\n",
    "                yolo_bbox = convert_to_yolo_format(\n",
    "                    bbox, img_width, img_height, class_id\n",
    "                )\n",
    "\n",
    "                # In Datei schreiben: class_id x_center y_center width height\n",
    "                f.write(\n",
    "                    f\"{yolo_bbox[0]} {yolo_bbox[1]:.6f} {yolo_bbox[2]:.6f} {yolo_bbox[3]:.6f} {yolo_bbox[4]:.6f}\\n\"\n",
    "                )\n",
    "                processed_annotations[dataset_type] += 1\n",
    "\n",
    "# 4. YAML-Konfigurationsdatei für YOLO erstellen\n",
    "yaml_content = {\n",
    "    \"path\": os.path.abspath(output_path),\n",
    "    \"train\": \"train/images\",\n",
    "    \"val\": \"val/images\",\n",
    "    \"names\": {\n",
    "        2: \"car\",\n",
    "        3: \"motorcycle\",\n",
    "        5: \"bus\",\n",
    "        7: \"truck\",\n",
    "    },\n",
    "}\n",
    "\n",
    "with open(Path(output_path) / \"dataset.yaml\", \"w\") as f:\n",
    "    yaml.dump(yaml_content, f, sort_keys=False)\n",
    "\n",
    "print(f\"\\nDataset vorbereitet:\")\n",
    "print(\n",
    "    f\"- {processed_samples['train']} Trainingsbilder mit {processed_annotations['train']} Annotationen\"\n",
    ")\n",
    "print(\n",
    "    f\"- {processed_samples['val']} Validierungsbilder mit {processed_annotations['val']} Annotationen\"\n",
    ")\n",
    "print(f\"- Konfiguration gespeichert in {Path(output_path) / 'dataset.yaml'}\")"
   ]
  },
  {
   "cell_type": "markdown",
   "metadata": {},
   "source": [
    "## Model Training\n"
   ]
  },
  {
   "cell_type": "code",
   "execution_count": null,
   "metadata": {},
   "outputs": [],
   "source": [
    "from ultralytics import YOLO\n",
    "import matplotlib.pyplot as plt\n",
    "import time\n",
    "\n",
    "# Sicherstellen, dass der Ordner für die Trainingsergebnisse existiert\n",
    "# results_dir = Path(\"results\") / f\"finetune_{time.strftime('%Y%m%d_%H%M%S')}\"\n",
    "# os.makedirs(results_dir, exist_ok=True)\n",
    "\n",
    "# 1. Modell laden (vortrainiertes YOLOv11n)\n",
    "print(f\"Lade vortrainiertes Modell: {yolo_model_path}\")\n",
    "model = YOLO(yolo_model_path)\n",
    "\n",
    "# 2. Training konfigurieren und starten\n",
    "print(f\"Starte Training mit Gerät: {device}\")\n",
    "\n",
    "# Parameter für das Training\n",
    "results = model.train(\n",
    "    data=str(Path(output_path) / \"dataset.yaml\"),\n",
    "    # Grundlegende Trainingsparameter\n",
    "    epochs=50,  # Anzahl der Trainingszyklen\n",
    "    imgsz=640,  # Bildgröße (Standard für YOLOv11n)\n",
    "    device=device,  # Verwendetes Gerät (mps, cuda, cpu)\n",
    ")"
   ]
  },
  {
   "cell_type": "code",
   "execution_count": null,
   "metadata": {},
   "outputs": [],
   "source": [
    "# 3. Validierung des trainierten Modells\n",
    "print(\"\\nValidierung des finegetuned Modells:\")\n",
    "metrics = model.val()  # Validierung mit dem Validation-Set\n",
    "\n",
    "# 4. Ergebnisse anzeigen\n",
    "print(f\"\\nTrainingsergebnisse gespeichert in: {results_dir}/highway_model\")\n",
    "\n",
    "# 5. Plots anzeigen\n",
    "try:\n",
    "    # Ergebnisse visualisieren\n",
    "    plt.figure(figsize=(16, 10))\n",
    "\n",
    "    # Training-Plots erstellen\n",
    "    for i, metric in enumerate([\"box_loss\", \"cls_loss\", \"dfl_loss\"]):\n",
    "        plt.subplot(2, 3, i + 1)\n",
    "        plt.plot(results.results_dict[metric], label=f\"train {metric}\")\n",
    "        plt.plot(results.results_dict[f\"val_{metric}\"], label=f\"val {metric}\")\n",
    "        plt.title(f\"{metric}\")\n",
    "        plt.xlabel(\"Epoch\")\n",
    "        plt.ylabel(\"Loss\")\n",
    "        plt.legend()\n",
    "\n",
    "    # Metriken-Plots erstellen\n",
    "    for i, metric in enumerate([\"precision\", \"recall\", \"mAP50\", \"mAP50-95\"]):\n",
    "        plt.subplot(2, 3, i + 4)\n",
    "        plt.plot(results.results_dict[metric], label=f\"val {metric}\")\n",
    "        plt.title(f\"{metric}\")\n",
    "        plt.xlabel(\"Epoch\")\n",
    "        plt.ylabel(\"Metric Value\")\n",
    "        plt.legend()\n",
    "\n",
    "    plt.tight_layout()\n",
    "    plt.savefig(f\"{results_dir}/training_metrics.png\", dpi=300)\n",
    "    plt.show()\n",
    "\n",
    "    print(f\"Training-Metriken-Plot gespeichert: {results_dir}/training_metrics.png\")\n",
    "except Exception as e:\n",
    "    print(f\"Konnte Plots nicht erstellen: {e}\")\n",
    "\n",
    "# # 6. Bestes Modell für die spätere Verwendung speichern\n",
    "# best_model_path = f\"{results_dir}/highway_model/weights/best.pt\"\n",
    "# final_model_path = f\"{results_dir}/best_highway_model.pt\"\n",
    "\n",
    "# if os.path.exists(best_model_path):\n",
    "#     import shutil\n",
    "\n",
    "#     shutil.copy(best_model_path, final_model_path)\n",
    "#     print(f\"Bestes Modell gespeichert unter: {final_model_path}\")\n",
    "\n",
    "#     # Informationen zum Modell ausgeben\n",
    "#     print(\"\\nModell ist bereit für die Inferenz:\")\n",
    "#     print(f\"model = YOLO('{final_model_path}')\")\n",
    "#     print(\"predictions = model('pfad/zum/testbild.jpg')\")"
   ]
  }
 ],
 "metadata": {
  "colab": {
   "authorship_tag": "ABX9TyODGsAB0eqO7pg0LZhQ6HuL",
   "provenance": []
  },
  "kernelspec": {
   "display_name": "ml",
   "language": "python",
   "name": "python3"
  },
  "language_info": {
   "codemirror_mode": {
    "name": "ipython",
    "version": 3
   },
   "file_extension": ".py",
   "mimetype": "text/x-python",
   "name": "python",
   "nbconvert_exporter": "python",
   "pygments_lexer": "ipython3",
   "version": "3.12.2"
  },
  "widgets": {
   "application/vnd.jupyter.widget-state+json": {
    "1fa94190793a4328bc906e8b0328ca7d": {
     "model_module": "@jupyter-widgets/controls",
     "model_module_version": "1.5.0",
     "model_name": "FloatProgressModel",
     "state": {
      "_dom_classes": [],
      "_model_module": "@jupyter-widgets/controls",
      "_model_module_version": "1.5.0",
      "_model_name": "FloatProgressModel",
      "_view_count": null,
      "_view_module": "@jupyter-widgets/controls",
      "_view_module_version": "1.5.0",
      "_view_name": "ProgressView",
      "bar_style": "success",
      "description": "",
      "description_tooltip": null,
      "layout": "IPY_MODEL_603193726b2f4728b20eb8e594c466c5",
      "max": 20,
      "min": 0,
      "orientation": "horizontal",
      "style": "IPY_MODEL_a7e4e0d82ce44a868fc9067b813389fc",
      "value": 20
     }
    },
    "3028f583d7144a0992d417e85c1ec0ff": {
     "model_module": "@jupyter-widgets/controls",
     "model_module_version": "1.5.0",
     "model_name": "DescriptionStyleModel",
     "state": {
      "_model_module": "@jupyter-widgets/controls",
      "_model_module_version": "1.5.0",
      "_model_name": "DescriptionStyleModel",
      "_view_count": null,
      "_view_module": "@jupyter-widgets/base",
      "_view_module_version": "1.2.0",
      "_view_name": "StyleView",
      "description_width": ""
     }
    },
    "440894c18a7848ada4c9e2d851673f28": {
     "model_module": "@jupyter-widgets/base",
     "model_module_version": "1.2.0",
     "model_name": "LayoutModel",
     "state": {
      "_model_module": "@jupyter-widgets/base",
      "_model_module_version": "1.2.0",
      "_model_name": "LayoutModel",
      "_view_count": null,
      "_view_module": "@jupyter-widgets/base",
      "_view_module_version": "1.2.0",
      "_view_name": "LayoutView",
      "align_content": null,
      "align_items": null,
      "align_self": null,
      "border": null,
      "bottom": null,
      "display": null,
      "flex": null,
      "flex_flow": null,
      "grid_area": null,
      "grid_auto_columns": null,
      "grid_auto_flow": null,
      "grid_auto_rows": null,
      "grid_column": null,
      "grid_gap": null,
      "grid_row": null,
      "grid_template_areas": null,
      "grid_template_columns": null,
      "grid_template_rows": null,
      "height": null,
      "justify_content": null,
      "justify_items": null,
      "left": null,
      "margin": null,
      "max_height": null,
      "max_width": null,
      "min_height": null,
      "min_width": null,
      "object_fit": null,
      "object_position": null,
      "order": null,
      "overflow": null,
      "overflow_x": null,
      "overflow_y": null,
      "padding": null,
      "right": null,
      "top": null,
      "visibility": null,
      "width": null
     }
    },
    "5edcd2159aba4258bbbabc03365c8e29": {
     "model_module": "@jupyter-widgets/controls",
     "model_module_version": "1.5.0",
     "model_name": "HTMLModel",
     "state": {
      "_dom_classes": [],
      "_model_module": "@jupyter-widgets/controls",
      "_model_module_version": "1.5.0",
      "_model_name": "HTMLModel",
      "_view_count": null,
      "_view_module": "@jupyter-widgets/controls",
      "_view_module_version": "1.5.0",
      "_view_name": "HTMLView",
      "description": "",
      "description_tooltip": null,
      "layout": "IPY_MODEL_440894c18a7848ada4c9e2d851673f28",
      "placeholder": "​",
      "style": "IPY_MODEL_3028f583d7144a0992d417e85c1ec0ff",
      "value": "Erstelle Dataset: 100%"
     }
    },
    "603193726b2f4728b20eb8e594c466c5": {
     "model_module": "@jupyter-widgets/base",
     "model_module_version": "1.2.0",
     "model_name": "LayoutModel",
     "state": {
      "_model_module": "@jupyter-widgets/base",
      "_model_module_version": "1.2.0",
      "_model_name": "LayoutModel",
      "_view_count": null,
      "_view_module": "@jupyter-widgets/base",
      "_view_module_version": "1.2.0",
      "_view_name": "LayoutView",
      "align_content": null,
      "align_items": null,
      "align_self": null,
      "border": null,
      "bottom": null,
      "display": null,
      "flex": null,
      "flex_flow": null,
      "grid_area": null,
      "grid_auto_columns": null,
      "grid_auto_flow": null,
      "grid_auto_rows": null,
      "grid_column": null,
      "grid_gap": null,
      "grid_row": null,
      "grid_template_areas": null,
      "grid_template_columns": null,
      "grid_template_rows": null,
      "height": null,
      "justify_content": null,
      "justify_items": null,
      "left": null,
      "margin": null,
      "max_height": null,
      "max_width": null,
      "min_height": null,
      "min_width": null,
      "object_fit": null,
      "object_position": null,
      "order": null,
      "overflow": null,
      "overflow_x": null,
      "overflow_y": null,
      "padding": null,
      "right": null,
      "top": null,
      "visibility": null,
      "width": null
     }
    },
    "76c00b59b39d437f8728b3a5572aa114": {
     "model_module": "@jupyter-widgets/controls",
     "model_module_version": "1.5.0",
     "model_name": "DescriptionStyleModel",
     "state": {
      "_model_module": "@jupyter-widgets/controls",
      "_model_module_version": "1.5.0",
      "_model_name": "DescriptionStyleModel",
      "_view_count": null,
      "_view_module": "@jupyter-widgets/base",
      "_view_module_version": "1.2.0",
      "_view_name": "StyleView",
      "description_width": ""
     }
    },
    "84baace804c04b2f87f8dfbf0db75055": {
     "model_module": "@jupyter-widgets/controls",
     "model_module_version": "1.5.0",
     "model_name": "HBoxModel",
     "state": {
      "_dom_classes": [],
      "_model_module": "@jupyter-widgets/controls",
      "_model_module_version": "1.5.0",
      "_model_name": "HBoxModel",
      "_view_count": null,
      "_view_module": "@jupyter-widgets/controls",
      "_view_module_version": "1.5.0",
      "_view_name": "HBoxView",
      "box_style": "",
      "children": [
       "IPY_MODEL_5edcd2159aba4258bbbabc03365c8e29",
       "IPY_MODEL_1fa94190793a4328bc906e8b0328ca7d",
       "IPY_MODEL_b32f2d0aea4a4f8ebcd4904cadd791e0"
      ],
      "layout": "IPY_MODEL_99ea6de33f9d47338d21a97e46ce27d6"
     }
    },
    "99ea6de33f9d47338d21a97e46ce27d6": {
     "model_module": "@jupyter-widgets/base",
     "model_module_version": "1.2.0",
     "model_name": "LayoutModel",
     "state": {
      "_model_module": "@jupyter-widgets/base",
      "_model_module_version": "1.2.0",
      "_model_name": "LayoutModel",
      "_view_count": null,
      "_view_module": "@jupyter-widgets/base",
      "_view_module_version": "1.2.0",
      "_view_name": "LayoutView",
      "align_content": null,
      "align_items": null,
      "align_self": null,
      "border": null,
      "bottom": null,
      "display": null,
      "flex": null,
      "flex_flow": null,
      "grid_area": null,
      "grid_auto_columns": null,
      "grid_auto_flow": null,
      "grid_auto_rows": null,
      "grid_column": null,
      "grid_gap": null,
      "grid_row": null,
      "grid_template_areas": null,
      "grid_template_columns": null,
      "grid_template_rows": null,
      "height": null,
      "justify_content": null,
      "justify_items": null,
      "left": null,
      "margin": null,
      "max_height": null,
      "max_width": null,
      "min_height": null,
      "min_width": null,
      "object_fit": null,
      "object_position": null,
      "order": null,
      "overflow": null,
      "overflow_x": null,
      "overflow_y": null,
      "padding": null,
      "right": null,
      "top": null,
      "visibility": null,
      "width": null
     }
    },
    "a7e4e0d82ce44a868fc9067b813389fc": {
     "model_module": "@jupyter-widgets/controls",
     "model_module_version": "1.5.0",
     "model_name": "ProgressStyleModel",
     "state": {
      "_model_module": "@jupyter-widgets/controls",
      "_model_module_version": "1.5.0",
      "_model_name": "ProgressStyleModel",
      "_view_count": null,
      "_view_module": "@jupyter-widgets/base",
      "_view_module_version": "1.2.0",
      "_view_name": "StyleView",
      "bar_color": null,
      "description_width": ""
     }
    },
    "b32f2d0aea4a4f8ebcd4904cadd791e0": {
     "model_module": "@jupyter-widgets/controls",
     "model_module_version": "1.5.0",
     "model_name": "HTMLModel",
     "state": {
      "_dom_classes": [],
      "_model_module": "@jupyter-widgets/controls",
      "_model_module_version": "1.5.0",
      "_model_name": "HTMLModel",
      "_view_count": null,
      "_view_module": "@jupyter-widgets/controls",
      "_view_module_version": "1.5.0",
      "_view_name": "HTMLView",
      "description": "",
      "description_tooltip": null,
      "layout": "IPY_MODEL_e8ee9e0ff0f34ab0b3c58fc52d981657",
      "placeholder": "​",
      "style": "IPY_MODEL_76c00b59b39d437f8728b3a5572aa114",
      "value": " 20/20 [00:00&lt;00:00, 68.13it/s]"
     }
    },
    "e8ee9e0ff0f34ab0b3c58fc52d981657": {
     "model_module": "@jupyter-widgets/base",
     "model_module_version": "1.2.0",
     "model_name": "LayoutModel",
     "state": {
      "_model_module": "@jupyter-widgets/base",
      "_model_module_version": "1.2.0",
      "_model_name": "LayoutModel",
      "_view_count": null,
      "_view_module": "@jupyter-widgets/base",
      "_view_module_version": "1.2.0",
      "_view_name": "LayoutView",
      "align_content": null,
      "align_items": null,
      "align_self": null,
      "border": null,
      "bottom": null,
      "display": null,
      "flex": null,
      "flex_flow": null,
      "grid_area": null,
      "grid_auto_columns": null,
      "grid_auto_flow": null,
      "grid_auto_rows": null,
      "grid_column": null,
      "grid_gap": null,
      "grid_row": null,
      "grid_template_areas": null,
      "grid_template_columns": null,
      "grid_template_rows": null,
      "height": null,
      "justify_content": null,
      "justify_items": null,
      "left": null,
      "margin": null,
      "max_height": null,
      "max_width": null,
      "min_height": null,
      "min_width": null,
      "object_fit": null,
      "object_position": null,
      "order": null,
      "overflow": null,
      "overflow_x": null,
      "overflow_y": null,
      "padding": null,
      "right": null,
      "top": null,
      "visibility": null,
      "width": null
     }
    }
   }
  }
 },
 "nbformat": 4,
 "nbformat_minor": 0
}
